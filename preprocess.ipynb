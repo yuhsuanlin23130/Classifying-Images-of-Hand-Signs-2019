{
 "cells": [
  {
   "cell_type": "markdown",
   "metadata": {},
   "source": [
    "## Preprocessing "
   ]
  },
  {
   "cell_type": "code",
   "execution_count": null,
   "metadata": {},
   "outputs": [],
   "source": [
    "### image resize\n",
    "from PIL import Image\n",
    "import os\n",
    "size = 256\n",
    "\n",
    "for i in range(6):  # 6 categories\n",
    "    for info in os.listdir(r'./training_images_original/class'+str(i)):\n",
    "        image = Image.open('./training_images_original/class'+str(i)+'/'+info)\n",
    "        image = image.resize((size, size), Image.BILINEAR)\n",
    "        image.save('./temp'+info)\n"
   ]
  },
  {
   "cell_type": "markdown",
   "metadata": {},
   "source": [
    "### image augmentation"
   ]
  },
  {
   "cell_type": "code",
   "execution_count": null,
   "metadata": {},
   "outputs": [],
   "source": [
    "from mxnet import image\n",
    "from PIL import Image\n",
    "import mxnet as mx\n",
    "from mxnet import gluon, init, nd, autograd\n",
    "from mxnet.gluon import data as gdata, nn, loss as gloss, utils as gutils\n",
    "import os\n",
    "import sys\n",
    "import time\n",
    "import numpy as np\n",
    "import matplotlib.pyplot as plt\n",
    "\n",
    "\n",
    "def show_images(imgs, num_rows, num_cols, info, scale=2):\n",
    "    figsize = (num_cols * scale, num_rows * scale)\n",
    "    for i in range(num_rows):\n",
    "        for j in range(num_cols):\n",
    "            plt.imshow(imgs[i * num_cols + j].asnumpy())\n",
    "            plt.axes().get_xaxis().set_visible(False)\n",
    "            plt.axes().get_yaxis().set_visible(False)\n",
    "            plt.savefig('./training7/'+info[0]+'_IMG_'+str(cnt)+'.jpg',  bbox_inches='tight',pad_inches=0.0)\n",
    "            #plt.show()\n",
    "            global cnt\n",
    "            cnt += 1\n",
    "\n",
    "cnt = 1400\n",
    "#Most image augmentation methods have a certain degree of randomness. This function runs the image augmentation method aug multiple times on the input image img and shows all results.\n",
    "def apply(img, aug, info, num_rows=2, num_cols=2, scale=3):\n",
    "    Y = [aug(img) for _ in range(num_rows * num_cols)] # a list of augmented images\n",
    "    show_images(Y, num_rows, num_cols, info, scale)\n",
    "color_aug = gdata.vision.transforms.RandomColorJitter(\n",
    "    brightness=0.5, contrast=0.5, saturation=0.5, hue=0.5) #明亮度 +-50%\n",
    "#shape_aug = gdata.vision.transforms.RandomResizedCrop(  \n",
    "#(250, 250), scale=(0.1, 1), ratio=(0.5, 2))  \n",
    "\n",
    "augs = gdata.vision.transforms.Compose([\n",
    "        gdata.vision.transforms.RandomFlipLeftRight(), color_aug]) #三個一起\n",
    "augs2= gdata.vision.transforms.Compose([\n",
    "        gdata.vision.transforms.RandomFlipTopBottom(), color_aug]) #三個一起\n",
    "\n",
    "for i, info in enumerate(os.listdir(r'./temp')):\n",
    "    img = image.imread('./temp/'+info)\n",
    "    if i % 2 ==1:\n",
    "        apply(img, augs, info)\n",
    "    else:\n",
    "        apply(img, augs2, info)"
   ]
  }
 ],
 "metadata": {
  "kernelspec": {
   "display_name": "Python 3",
   "language": "python",
   "name": "python3"
  },
  "language_info": {
   "codemirror_mode": {
    "name": "ipython",
    "version": 3
   },
   "file_extension": ".py",
   "mimetype": "text/x-python",
   "name": "python",
   "nbconvert_exporter": "python",
   "pygments_lexer": "ipython3",
   "version": "3.7.4"
  }
 },
 "nbformat": 4,
 "nbformat_minor": 2
}
